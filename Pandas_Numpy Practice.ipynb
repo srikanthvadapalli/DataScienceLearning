{
 "cells": [
  {
   "cell_type": "markdown",
   "metadata": {},
   "source": [
    "# Pandas, Numpy & Scikit Learn Practice"
   ]
  },
  {
   "cell_type": "code",
   "execution_count": 3,
   "metadata": {},
   "outputs": [],
   "source": [
    "%matplotlib inline\n",
    "import pandas as pd\n",
    "import numpy as np\n",
    "\n",
    "df = pd.read_csv(\"Sample.csv\") # To read the data in the csv file"
   ]
  },
  {
   "cell_type": "code",
   "execution_count": 4,
   "metadata": {},
   "outputs": [
    {
     "data": {
      "text/html": [
       "<div>\n",
       "<style scoped>\n",
       "    .dataframe tbody tr th:only-of-type {\n",
       "        vertical-align: middle;\n",
       "    }\n",
       "\n",
       "    .dataframe tbody tr th {\n",
       "        vertical-align: top;\n",
       "    }\n",
       "\n",
       "    .dataframe thead th {\n",
       "        text-align: right;\n",
       "    }\n",
       "</style>\n",
       "<table border=\"1\" class=\"dataframe\">\n",
       "  <thead>\n",
       "    <tr style=\"text-align: right;\">\n",
       "      <th></th>\n",
       "      <th>S.No</th>\n",
       "      <th>First Name</th>\n",
       "      <th>Last Name</th>\n",
       "      <th>Phone Number</th>\n",
       "      <th>Status of the job</th>\n",
       "      <th>Place of job</th>\n",
       "    </tr>\n",
       "  </thead>\n",
       "  <tbody>\n",
       "    <tr>\n",
       "      <th>0</th>\n",
       "      <td>1</td>\n",
       "      <td>Srikanth</td>\n",
       "      <td>Vadapalli</td>\n",
       "      <td>9.492148e+09</td>\n",
       "      <td>Active</td>\n",
       "      <td>Hyderabad</td>\n",
       "    </tr>\n",
       "    <tr>\n",
       "      <th>1</th>\n",
       "      <td>2</td>\n",
       "      <td>Pranuthi</td>\n",
       "      <td>Konidena</td>\n",
       "      <td>9.700801e+09</td>\n",
       "      <td>Active</td>\n",
       "      <td>Hyderabad</td>\n",
       "    </tr>\n",
       "    <tr>\n",
       "      <th>2</th>\n",
       "      <td>3</td>\n",
       "      <td>Sridevi</td>\n",
       "      <td>Peddinti</td>\n",
       "      <td>NaN</td>\n",
       "      <td>In Active</td>\n",
       "      <td>Pithapuram</td>\n",
       "    </tr>\n",
       "    <tr>\n",
       "      <th>3</th>\n",
       "      <td>4</td>\n",
       "      <td>Suryanarayana</td>\n",
       "      <td>Peddinti</td>\n",
       "      <td>NaN</td>\n",
       "      <td>Active</td>\n",
       "      <td>Pithapuram</td>\n",
       "    </tr>\n",
       "    <tr>\n",
       "      <th>4</th>\n",
       "      <td>5</td>\n",
       "      <td>Madhavi</td>\n",
       "      <td>Vedantam</td>\n",
       "      <td>NaN</td>\n",
       "      <td>In Active</td>\n",
       "      <td>Benguluru</td>\n",
       "    </tr>\n",
       "  </tbody>\n",
       "</table>\n",
       "</div>"
      ],
      "text/plain": [
       "   S.No     First Name  Last Name  Phone Number Status of the job Place of job\n",
       "0     1       Srikanth  Vadapalli  9.492148e+09            Active    Hyderabad\n",
       "1     2      Pranuthi    Konidena  9.700801e+09            Active    Hyderabad\n",
       "2     3        Sridevi   Peddinti           NaN         In Active   Pithapuram\n",
       "3     4  Suryanarayana   Peddinti           NaN            Active   Pithapuram\n",
       "4     5        Madhavi   Vedantam           NaN         In Active    Benguluru"
      ]
     },
     "execution_count": 4,
     "metadata": {},
     "output_type": "execute_result"
    }
   ],
   "source": [
    "df.head() # To display first 5 rows of data in the dataframe"
   ]
  },
  {
   "cell_type": "code",
   "execution_count": 5,
   "metadata": {},
   "outputs": [
    {
     "data": {
      "text/html": [
       "<div>\n",
       "<style scoped>\n",
       "    .dataframe tbody tr th:only-of-type {\n",
       "        vertical-align: middle;\n",
       "    }\n",
       "\n",
       "    .dataframe tbody tr th {\n",
       "        vertical-align: top;\n",
       "    }\n",
       "\n",
       "    .dataframe thead th {\n",
       "        text-align: right;\n",
       "    }\n",
       "</style>\n",
       "<table border=\"1\" class=\"dataframe\">\n",
       "  <thead>\n",
       "    <tr style=\"text-align: right;\">\n",
       "      <th></th>\n",
       "      <th>S.No</th>\n",
       "      <th>First Name</th>\n",
       "      <th>Last Name</th>\n",
       "      <th>Phone Number</th>\n",
       "      <th>Status of the job</th>\n",
       "      <th>Place of job</th>\n",
       "    </tr>\n",
       "  </thead>\n",
       "  <tbody>\n",
       "    <tr>\n",
       "      <th>0</th>\n",
       "      <td>1</td>\n",
       "      <td>Srikanth</td>\n",
       "      <td>Vadapalli</td>\n",
       "      <td>9.492148e+09</td>\n",
       "      <td>Active</td>\n",
       "      <td>Hyderabad</td>\n",
       "    </tr>\n",
       "    <tr>\n",
       "      <th>1</th>\n",
       "      <td>2</td>\n",
       "      <td>Pranuthi</td>\n",
       "      <td>Konidena</td>\n",
       "      <td>9.700801e+09</td>\n",
       "      <td>Active</td>\n",
       "      <td>Hyderabad</td>\n",
       "    </tr>\n",
       "    <tr>\n",
       "      <th>2</th>\n",
       "      <td>3</td>\n",
       "      <td>Sridevi</td>\n",
       "      <td>Peddinti</td>\n",
       "      <td>NaN</td>\n",
       "      <td>In Active</td>\n",
       "      <td>Pithapuram</td>\n",
       "    </tr>\n",
       "    <tr>\n",
       "      <th>3</th>\n",
       "      <td>4</td>\n",
       "      <td>Suryanarayana</td>\n",
       "      <td>Peddinti</td>\n",
       "      <td>NaN</td>\n",
       "      <td>Active</td>\n",
       "      <td>Pithapuram</td>\n",
       "    </tr>\n",
       "    <tr>\n",
       "      <th>4</th>\n",
       "      <td>5</td>\n",
       "      <td>Madhavi</td>\n",
       "      <td>Vedantam</td>\n",
       "      <td>NaN</td>\n",
       "      <td>In Active</td>\n",
       "      <td>Benguluru</td>\n",
       "    </tr>\n",
       "    <tr>\n",
       "      <th>5</th>\n",
       "      <td>6</td>\n",
       "      <td>Sekhar</td>\n",
       "      <td>Vedantam</td>\n",
       "      <td>NaN</td>\n",
       "      <td>Active</td>\n",
       "      <td>Benguluru</td>\n",
       "    </tr>\n",
       "    <tr>\n",
       "      <th>6</th>\n",
       "      <td>7</td>\n",
       "      <td>Kalyani</td>\n",
       "      <td>NaN</td>\n",
       "      <td>9.550322e+09</td>\n",
       "      <td>Active</td>\n",
       "      <td>Hyderabad</td>\n",
       "    </tr>\n",
       "    <tr>\n",
       "      <th>7</th>\n",
       "      <td>8</td>\n",
       "      <td>Sudhakar</td>\n",
       "      <td>NaN</td>\n",
       "      <td>NaN</td>\n",
       "      <td>Active</td>\n",
       "      <td>Hyderabad</td>\n",
       "    </tr>\n",
       "    <tr>\n",
       "      <th>8</th>\n",
       "      <td>9</td>\n",
       "      <td>Sowmya</td>\n",
       "      <td>Peddinti</td>\n",
       "      <td>9.493842e+09</td>\n",
       "      <td>In Active</td>\n",
       "      <td>Hyderabad</td>\n",
       "    </tr>\n",
       "    <tr>\n",
       "      <th>9</th>\n",
       "      <td>10</td>\n",
       "      <td>Sairam</td>\n",
       "      <td>Peddinti</td>\n",
       "      <td>9.963601e+09</td>\n",
       "      <td>Active</td>\n",
       "      <td>Hyderabad</td>\n",
       "    </tr>\n",
       "  </tbody>\n",
       "</table>\n",
       "</div>"
      ],
      "text/plain": [
       "   S.No     First Name  Last Name  Phone Number Status of the job Place of job\n",
       "0     1       Srikanth  Vadapalli  9.492148e+09            Active    Hyderabad\n",
       "1     2      Pranuthi    Konidena  9.700801e+09            Active    Hyderabad\n",
       "2     3        Sridevi   Peddinti           NaN         In Active   Pithapuram\n",
       "3     4  Suryanarayana   Peddinti           NaN            Active   Pithapuram\n",
       "4     5        Madhavi   Vedantam           NaN         In Active    Benguluru\n",
       "5     6         Sekhar   Vedantam           NaN            Active    Benguluru\n",
       "6     7        Kalyani        NaN  9.550322e+09            Active    Hyderabad\n",
       "7     8       Sudhakar        NaN           NaN            Active    Hyderabad\n",
       "8     9         Sowmya   Peddinti  9.493842e+09         In Active    Hyderabad\n",
       "9    10         Sairam   Peddinti  9.963601e+09            Active    Hyderabad"
      ]
     },
     "execution_count": 5,
     "metadata": {},
     "output_type": "execute_result"
    }
   ],
   "source": [
    "df.head(10) # To display top 10 rows from the dataframe"
   ]
  },
  {
   "cell_type": "code",
   "execution_count": 6,
   "metadata": {},
   "outputs": [
    {
     "data": {
      "text/html": [
       "<div>\n",
       "<style scoped>\n",
       "    .dataframe tbody tr th:only-of-type {\n",
       "        vertical-align: middle;\n",
       "    }\n",
       "\n",
       "    .dataframe tbody tr th {\n",
       "        vertical-align: top;\n",
       "    }\n",
       "\n",
       "    .dataframe thead th {\n",
       "        text-align: right;\n",
       "    }\n",
       "</style>\n",
       "<table border=\"1\" class=\"dataframe\">\n",
       "  <thead>\n",
       "    <tr style=\"text-align: right;\">\n",
       "      <th></th>\n",
       "      <th>S.No</th>\n",
       "      <th>First Name</th>\n",
       "      <th>Last Name</th>\n",
       "      <th>Phone Number</th>\n",
       "      <th>Status of the job</th>\n",
       "      <th>Place of job</th>\n",
       "    </tr>\n",
       "  </thead>\n",
       "  <tbody>\n",
       "    <tr>\n",
       "      <th>5</th>\n",
       "      <td>6</td>\n",
       "      <td>Sekhar</td>\n",
       "      <td>Vedantam</td>\n",
       "      <td>NaN</td>\n",
       "      <td>Active</td>\n",
       "      <td>Benguluru</td>\n",
       "    </tr>\n",
       "    <tr>\n",
       "      <th>6</th>\n",
       "      <td>7</td>\n",
       "      <td>Kalyani</td>\n",
       "      <td>NaN</td>\n",
       "      <td>9.550322e+09</td>\n",
       "      <td>Active</td>\n",
       "      <td>Hyderabad</td>\n",
       "    </tr>\n",
       "    <tr>\n",
       "      <th>7</th>\n",
       "      <td>8</td>\n",
       "      <td>Sudhakar</td>\n",
       "      <td>NaN</td>\n",
       "      <td>NaN</td>\n",
       "      <td>Active</td>\n",
       "      <td>Hyderabad</td>\n",
       "    </tr>\n",
       "    <tr>\n",
       "      <th>8</th>\n",
       "      <td>9</td>\n",
       "      <td>Sowmya</td>\n",
       "      <td>Peddinti</td>\n",
       "      <td>9.493842e+09</td>\n",
       "      <td>In Active</td>\n",
       "      <td>Hyderabad</td>\n",
       "    </tr>\n",
       "    <tr>\n",
       "      <th>9</th>\n",
       "      <td>10</td>\n",
       "      <td>Sairam</td>\n",
       "      <td>Peddinti</td>\n",
       "      <td>9.963601e+09</td>\n",
       "      <td>Active</td>\n",
       "      <td>Hyderabad</td>\n",
       "    </tr>\n",
       "  </tbody>\n",
       "</table>\n",
       "</div>"
      ],
      "text/plain": [
       "   S.No First Name Last Name  Phone Number Status of the job Place of job\n",
       "5     6     Sekhar  Vedantam           NaN            Active    Benguluru\n",
       "6     7    Kalyani       NaN  9.550322e+09            Active    Hyderabad\n",
       "7     8   Sudhakar       NaN           NaN            Active    Hyderabad\n",
       "8     9     Sowmya  Peddinti  9.493842e+09         In Active    Hyderabad\n",
       "9    10     Sairam  Peddinti  9.963601e+09            Active    Hyderabad"
      ]
     },
     "execution_count": 6,
     "metadata": {},
     "output_type": "execute_result"
    }
   ],
   "source": [
    "df.tail() # To display last 5 rows from the dataframe"
   ]
  },
  {
   "cell_type": "code",
   "execution_count": 6,
   "metadata": {},
   "outputs": [
    {
     "data": {
      "text/html": [
       "<div>\n",
       "<style scoped>\n",
       "    .dataframe tbody tr th:only-of-type {\n",
       "        vertical-align: middle;\n",
       "    }\n",
       "\n",
       "    .dataframe tbody tr th {\n",
       "        vertical-align: top;\n",
       "    }\n",
       "\n",
       "    .dataframe thead th {\n",
       "        text-align: right;\n",
       "    }\n",
       "</style>\n",
       "<table border=\"1\" class=\"dataframe\">\n",
       "  <thead>\n",
       "    <tr style=\"text-align: right;\">\n",
       "      <th></th>\n",
       "      <th>S.No</th>\n",
       "      <th>First Name</th>\n",
       "      <th>Last Name</th>\n",
       "      <th>Phone Number</th>\n",
       "      <th>Status of the job</th>\n",
       "      <th>Place of job</th>\n",
       "    </tr>\n",
       "  </thead>\n",
       "  <tbody>\n",
       "    <tr>\n",
       "      <th>3</th>\n",
       "      <td>4</td>\n",
       "      <td>Suryanarayana</td>\n",
       "      <td>Peddinti</td>\n",
       "      <td>NaN</td>\n",
       "      <td>Active</td>\n",
       "      <td>Pithapuram</td>\n",
       "    </tr>\n",
       "    <tr>\n",
       "      <th>4</th>\n",
       "      <td>5</td>\n",
       "      <td>Madhavi</td>\n",
       "      <td>Vedantam</td>\n",
       "      <td>NaN</td>\n",
       "      <td>In Active</td>\n",
       "      <td>Benguluru</td>\n",
       "    </tr>\n",
       "    <tr>\n",
       "      <th>5</th>\n",
       "      <td>6</td>\n",
       "      <td>Sekhar</td>\n",
       "      <td>Vedantam</td>\n",
       "      <td>NaN</td>\n",
       "      <td>Active</td>\n",
       "      <td>Benguluru</td>\n",
       "    </tr>\n",
       "    <tr>\n",
       "      <th>6</th>\n",
       "      <td>7</td>\n",
       "      <td>Kalyani</td>\n",
       "      <td>NaN</td>\n",
       "      <td>9.550322e+09</td>\n",
       "      <td>Active</td>\n",
       "      <td>Hyderabad</td>\n",
       "    </tr>\n",
       "    <tr>\n",
       "      <th>7</th>\n",
       "      <td>8</td>\n",
       "      <td>Sudhakar</td>\n",
       "      <td>NaN</td>\n",
       "      <td>NaN</td>\n",
       "      <td>Active</td>\n",
       "      <td>Hyderabad</td>\n",
       "    </tr>\n",
       "    <tr>\n",
       "      <th>8</th>\n",
       "      <td>9</td>\n",
       "      <td>Sowmya</td>\n",
       "      <td>Peddinti</td>\n",
       "      <td>9.493842e+09</td>\n",
       "      <td>In Active</td>\n",
       "      <td>Hyderabad</td>\n",
       "    </tr>\n",
       "    <tr>\n",
       "      <th>9</th>\n",
       "      <td>10</td>\n",
       "      <td>Sairam</td>\n",
       "      <td>Peddinti</td>\n",
       "      <td>9.963601e+09</td>\n",
       "      <td>Active</td>\n",
       "      <td>Hyderabad</td>\n",
       "    </tr>\n",
       "  </tbody>\n",
       "</table>\n",
       "</div>"
      ],
      "text/plain": [
       "   S.No     First Name Last Name  Phone Number Status of the job Place of job\n",
       "3     4  Suryanarayana  Peddinti           NaN            Active   Pithapuram\n",
       "4     5        Madhavi  Vedantam           NaN         In Active    Benguluru\n",
       "5     6         Sekhar  Vedantam           NaN            Active    Benguluru\n",
       "6     7        Kalyani       NaN  9.550322e+09            Active    Hyderabad\n",
       "7     8       Sudhakar       NaN           NaN            Active    Hyderabad\n",
       "8     9         Sowmya  Peddinti  9.493842e+09         In Active    Hyderabad\n",
       "9    10         Sairam  Peddinti  9.963601e+09            Active    Hyderabad"
      ]
     },
     "execution_count": 6,
     "metadata": {},
     "output_type": "execute_result"
    }
   ],
   "source": [
    "df.tail(7) # To display last 7 rows from the dataframe"
   ]
  },
  {
   "cell_type": "code",
   "execution_count": 7,
   "metadata": {},
   "outputs": [
    {
     "data": {
      "text/plain": [
       "(10, 6)"
      ]
     },
     "execution_count": 7,
     "metadata": {},
     "output_type": "execute_result"
    }
   ],
   "source": [
    "df.shape # To display the size of the dataframe in the format (rows, columns)"
   ]
  },
  {
   "cell_type": "code",
   "execution_count": 8,
   "metadata": {},
   "outputs": [
    {
     "data": {
      "text/plain": [
       "60"
      ]
     },
     "execution_count": 8,
     "metadata": {},
     "output_type": "execute_result"
    }
   ],
   "source": [
    "df.size # To display total number of cells in the dataframe"
   ]
  },
  {
   "cell_type": "code",
   "execution_count": 9,
   "metadata": {},
   "outputs": [
    {
     "data": {
      "text/plain": [
       "10"
      ]
     },
     "execution_count": 9,
     "metadata": {},
     "output_type": "execute_result"
    }
   ],
   "source": [
    "len(df) # To display total number of rows in the dataframe"
   ]
  },
  {
   "cell_type": "code",
   "execution_count": 10,
   "metadata": {},
   "outputs": [
    {
     "data": {
      "text/plain": [
       "Index(['S.No', 'First Name', 'Last Name', 'Phone Number', 'Status of the job',\n",
       "       'Place of job'],\n",
       "      dtype='object')"
      ]
     },
     "execution_count": 10,
     "metadata": {},
     "output_type": "execute_result"
    }
   ],
   "source": [
    "df.columns # To display the list of columns in the dataframe"
   ]
  },
  {
   "cell_type": "code",
   "execution_count": 11,
   "metadata": {},
   "outputs": [
    {
     "data": {
      "text/plain": [
       "0         Srikanth\n",
       "1        Pranuthi \n",
       "2          Sridevi\n",
       "3    Suryanarayana\n",
       "4          Madhavi\n",
       "5           Sekhar\n",
       "6          Kalyani\n",
       "7         Sudhakar\n",
       "8           Sowmya\n",
       "9           Sairam\n",
       "Name: First Name, dtype: object"
      ]
     },
     "execution_count": 11,
     "metadata": {},
     "output_type": "execute_result"
    }
   ],
   "source": [
    "df[\"First Name\"] # To display the values from the mentioned column"
   ]
  },
  {
   "cell_type": "code",
   "execution_count": 12,
   "metadata": {},
   "outputs": [
    {
     "data": {
      "text/html": [
       "<div>\n",
       "<style scoped>\n",
       "    .dataframe tbody tr th:only-of-type {\n",
       "        vertical-align: middle;\n",
       "    }\n",
       "\n",
       "    .dataframe tbody tr th {\n",
       "        vertical-align: top;\n",
       "    }\n",
       "\n",
       "    .dataframe thead th {\n",
       "        text-align: right;\n",
       "    }\n",
       "</style>\n",
       "<table border=\"1\" class=\"dataframe\">\n",
       "  <thead>\n",
       "    <tr style=\"text-align: right;\">\n",
       "      <th></th>\n",
       "      <th>First Name</th>\n",
       "      <th>Status of the job</th>\n",
       "    </tr>\n",
       "  </thead>\n",
       "  <tbody>\n",
       "    <tr>\n",
       "      <th>0</th>\n",
       "      <td>Srikanth</td>\n",
       "      <td>Active</td>\n",
       "    </tr>\n",
       "    <tr>\n",
       "      <th>1</th>\n",
       "      <td>Pranuthi</td>\n",
       "      <td>Active</td>\n",
       "    </tr>\n",
       "    <tr>\n",
       "      <th>2</th>\n",
       "      <td>Sridevi</td>\n",
       "      <td>In Active</td>\n",
       "    </tr>\n",
       "    <tr>\n",
       "      <th>3</th>\n",
       "      <td>Suryanarayana</td>\n",
       "      <td>Active</td>\n",
       "    </tr>\n",
       "    <tr>\n",
       "      <th>4</th>\n",
       "      <td>Madhavi</td>\n",
       "      <td>In Active</td>\n",
       "    </tr>\n",
       "    <tr>\n",
       "      <th>5</th>\n",
       "      <td>Sekhar</td>\n",
       "      <td>Active</td>\n",
       "    </tr>\n",
       "    <tr>\n",
       "      <th>6</th>\n",
       "      <td>Kalyani</td>\n",
       "      <td>Active</td>\n",
       "    </tr>\n",
       "    <tr>\n",
       "      <th>7</th>\n",
       "      <td>Sudhakar</td>\n",
       "      <td>Active</td>\n",
       "    </tr>\n",
       "    <tr>\n",
       "      <th>8</th>\n",
       "      <td>Sowmya</td>\n",
       "      <td>In Active</td>\n",
       "    </tr>\n",
       "    <tr>\n",
       "      <th>9</th>\n",
       "      <td>Sairam</td>\n",
       "      <td>Active</td>\n",
       "    </tr>\n",
       "  </tbody>\n",
       "</table>\n",
       "</div>"
      ],
      "text/plain": [
       "      First Name Status of the job\n",
       "0       Srikanth            Active\n",
       "1      Pranuthi             Active\n",
       "2        Sridevi         In Active\n",
       "3  Suryanarayana            Active\n",
       "4        Madhavi         In Active\n",
       "5         Sekhar            Active\n",
       "6        Kalyani            Active\n",
       "7       Sudhakar            Active\n",
       "8         Sowmya         In Active\n",
       "9         Sairam            Active"
      ]
     },
     "execution_count": 12,
     "metadata": {},
     "output_type": "execute_result"
    }
   ],
   "source": [
    "df[[\"First Name\", \"Status of the job\"]] # To display the values from the mentioned columns of the dataframe"
   ]
  },
  {
   "cell_type": "code",
   "execution_count": 13,
   "metadata": {},
   "outputs": [
    {
     "data": {
      "text/html": [
       "<div>\n",
       "<style scoped>\n",
       "    .dataframe tbody tr th:only-of-type {\n",
       "        vertical-align: middle;\n",
       "    }\n",
       "\n",
       "    .dataframe tbody tr th {\n",
       "        vertical-align: top;\n",
       "    }\n",
       "\n",
       "    .dataframe thead th {\n",
       "        text-align: right;\n",
       "    }\n",
       "</style>\n",
       "<table border=\"1\" class=\"dataframe\">\n",
       "  <thead>\n",
       "    <tr style=\"text-align: right;\">\n",
       "      <th></th>\n",
       "      <th>S.No</th>\n",
       "      <th>First Name</th>\n",
       "      <th>Last Name</th>\n",
       "      <th>Phone Number</th>\n",
       "      <th>Status of the job</th>\n",
       "      <th>Place of job</th>\n",
       "    </tr>\n",
       "  </thead>\n",
       "  <tbody>\n",
       "    <tr>\n",
       "      <th>4</th>\n",
       "      <td>5</td>\n",
       "      <td>Madhavi</td>\n",
       "      <td>Vedantam</td>\n",
       "      <td>NaN</td>\n",
       "      <td>In Active</td>\n",
       "      <td>Benguluru</td>\n",
       "    </tr>\n",
       "    <tr>\n",
       "      <th>5</th>\n",
       "      <td>6</td>\n",
       "      <td>Sekhar</td>\n",
       "      <td>Vedantam</td>\n",
       "      <td>NaN</td>\n",
       "      <td>Active</td>\n",
       "      <td>Benguluru</td>\n",
       "    </tr>\n",
       "    <tr>\n",
       "      <th>0</th>\n",
       "      <td>1</td>\n",
       "      <td>Srikanth</td>\n",
       "      <td>Vadapalli</td>\n",
       "      <td>9.492148e+09</td>\n",
       "      <td>Active</td>\n",
       "      <td>Hyderabad</td>\n",
       "    </tr>\n",
       "    <tr>\n",
       "      <th>1</th>\n",
       "      <td>2</td>\n",
       "      <td>Pranuthi</td>\n",
       "      <td>Konidena</td>\n",
       "      <td>9.700801e+09</td>\n",
       "      <td>Active</td>\n",
       "      <td>Hyderabad</td>\n",
       "    </tr>\n",
       "    <tr>\n",
       "      <th>6</th>\n",
       "      <td>7</td>\n",
       "      <td>Kalyani</td>\n",
       "      <td>NaN</td>\n",
       "      <td>9.550322e+09</td>\n",
       "      <td>Active</td>\n",
       "      <td>Hyderabad</td>\n",
       "    </tr>\n",
       "    <tr>\n",
       "      <th>7</th>\n",
       "      <td>8</td>\n",
       "      <td>Sudhakar</td>\n",
       "      <td>NaN</td>\n",
       "      <td>NaN</td>\n",
       "      <td>Active</td>\n",
       "      <td>Hyderabad</td>\n",
       "    </tr>\n",
       "    <tr>\n",
       "      <th>8</th>\n",
       "      <td>9</td>\n",
       "      <td>Sowmya</td>\n",
       "      <td>Peddinti</td>\n",
       "      <td>9.493842e+09</td>\n",
       "      <td>In Active</td>\n",
       "      <td>Hyderabad</td>\n",
       "    </tr>\n",
       "    <tr>\n",
       "      <th>9</th>\n",
       "      <td>10</td>\n",
       "      <td>Sairam</td>\n",
       "      <td>Peddinti</td>\n",
       "      <td>9.963601e+09</td>\n",
       "      <td>Active</td>\n",
       "      <td>Hyderabad</td>\n",
       "    </tr>\n",
       "    <tr>\n",
       "      <th>2</th>\n",
       "      <td>3</td>\n",
       "      <td>Sridevi</td>\n",
       "      <td>Peddinti</td>\n",
       "      <td>NaN</td>\n",
       "      <td>In Active</td>\n",
       "      <td>Pithapuram</td>\n",
       "    </tr>\n",
       "    <tr>\n",
       "      <th>3</th>\n",
       "      <td>4</td>\n",
       "      <td>Suryanarayana</td>\n",
       "      <td>Peddinti</td>\n",
       "      <td>NaN</td>\n",
       "      <td>Active</td>\n",
       "      <td>Pithapuram</td>\n",
       "    </tr>\n",
       "  </tbody>\n",
       "</table>\n",
       "</div>"
      ],
      "text/plain": [
       "   S.No     First Name  Last Name  Phone Number Status of the job Place of job\n",
       "4     5        Madhavi   Vedantam           NaN         In Active    Benguluru\n",
       "5     6         Sekhar   Vedantam           NaN            Active    Benguluru\n",
       "0     1       Srikanth  Vadapalli  9.492148e+09            Active    Hyderabad\n",
       "1     2      Pranuthi    Konidena  9.700801e+09            Active    Hyderabad\n",
       "6     7        Kalyani        NaN  9.550322e+09            Active    Hyderabad\n",
       "7     8       Sudhakar        NaN           NaN            Active    Hyderabad\n",
       "8     9         Sowmya   Peddinti  9.493842e+09         In Active    Hyderabad\n",
       "9    10         Sairam   Peddinti  9.963601e+09            Active    Hyderabad\n",
       "2     3        Sridevi   Peddinti           NaN         In Active   Pithapuram\n",
       "3     4  Suryanarayana   Peddinti           NaN            Active   Pithapuram"
      ]
     },
     "execution_count": 13,
     "metadata": {},
     "output_type": "execute_result"
    }
   ],
   "source": [
    "df.sort_values([\"Place of job\"]) # Sorting the values in the dataframe w.r.t the selected column"
   ]
  },
  {
   "cell_type": "code",
   "execution_count": 14,
   "metadata": {},
   "outputs": [
    {
     "data": {
      "text/plain": [
       "Hyderabad     6\n",
       "Pithapuram    2\n",
       "Benguluru     2\n",
       "Name: Place of job, dtype: int64"
      ]
     },
     "execution_count": 14,
     "metadata": {},
     "output_type": "execute_result"
    }
   ],
   "source": [
    "df[\"Place of job\"].value_counts() # To filter the no.of unique values in the selected column of a dataframe"
   ]
  },
  {
   "cell_type": "code",
   "execution_count": 16,
   "metadata": {},
   "outputs": [
    {
     "data": {
      "text/plain": [
       "<matplotlib.axes._subplots.AxesSubplot at 0x1227be390>"
      ]
     },
     "execution_count": 16,
     "metadata": {},
     "output_type": "execute_result"
    },
    {
     "data": {
      "image/png": "[encoded data removed]",
      "text/plain": [
       "<Figure size 432x288 with 1 Axes>"
      ]
     },
     "metadata": {
      "needs_background": "light"
     },
     "output_type": "display_data"
    }
   ],
   "source": [
    "count = df[\"Place of job\"].value_counts() # To store the unique values from the column \"Place of job\" in the variable\n",
    "count.plot(kind = \"bar\") # To ploot a bar graph for the values"
   ]
  }
 ],
 "metadata": {
  "kernelspec": {
   "display_name": "Python 3",
   "language": "python",
   "name": "python3"
  },
  "language_info": {
   "codemirror_mode": {
    "name": "ipython",
    "version": 3
   },
   "file_extension": ".py",
   "mimetype": "text/x-python",
   "name": "python",
   "nbconvert_exporter": "python",
   "pygments_lexer": "ipython3",
   "version": "3.7.6"
  }
 },
 "nbformat": 4,
 "nbformat_minor": 4
}
